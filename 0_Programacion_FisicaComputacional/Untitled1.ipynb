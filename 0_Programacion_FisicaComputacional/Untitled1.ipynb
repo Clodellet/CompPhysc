{
 "cells": [
  {
   "cell_type": "markdown",
   "id": "fd2437c7",
   "metadata": {},
   "source": [
    "# Polinomios de Legendre\n",
    "## Claudia Daniela Rubio Ruiz"
   ]
  },
  {
   "cell_type": "code",
   "execution_count": 2,
   "id": "39747c47",
   "metadata": {},
   "outputs": [],
   "source": [
    "from math import *"
   ]
  },
  {
   "cell_type": "code",
   "execution_count": 8,
   "id": "0ba7e892",
   "metadata": {},
   "outputs": [],
   "source": [
    "def f(x):\n",
    "    return x**2 + 4*x + 2"
   ]
  },
  {
   "cell_type": "code",
   "execution_count": 9,
   "id": "ed8003ea",
   "metadata": {},
   "outputs": [],
   "source": [
    "#definir intervalo\n",
    "a = 8\n",
    "b = 27\n",
    "\n",
    "N = 3\n",
    "h = (b-a)/N"
   ]
  },
  {
   "cell_type": "markdown",
   "id": "64bf4842",
   "metadata": {},
   "source": [
    "$P_N(x) = \\displaystyle\\prod_{k=1}^{N} \\frac{x-x_N}{x_k-x_N}\\\\$\n",
    "$\\sum w_i f(x_i) = I$"
   ]
  },
  {
   "cell_type": "code",
   "execution_count": 13,
   "id": "71ba70ad",
   "metadata": {},
   "outputs": [],
   "source": [
    "#POLINOMIOs DE LEGRENDE\n",
    "\n",
    "def P_0(x):\n",
    "    return 1 \n",
    "\n",
    "def P_1(x):\n",
    "    return x\n",
    "\n",
    "def P_2(x):\n",
    "    return (3*x**2-1)/2\n",
    "\n",
    "def P_3(x):\n",
    "    return (5*x**3-3*x)/2"
   ]
  },
  {
   "cell_type": "code",
   "execution_count": 15,
   "id": "eb4f6d50",
   "metadata": {},
   "outputs": [
    {
     "ename": "NameError",
     "evalue": "name 'x' is not defined",
     "output_type": "error",
     "traceback": [
      "\u001b[0;31m---------------------------------------------------------------------------\u001b[0m",
      "\u001b[0;31mNameError\u001b[0m                                 Traceback (most recent call last)",
      "Cell \u001b[0;32mIn[15], line 4\u001b[0m\n\u001b[1;32m      1\u001b[0m \u001b[38;5;66;03m#Calcular f(x_i)\u001b[39;00m\n\u001b[1;32m      2\u001b[0m \u001b[38;5;66;03m#Encontrar x_i, como las raícez de Pn(x)\u001b[39;00m\n\u001b[0;32m----> 4\u001b[0m P_0(\u001b[43mx\u001b[49m) \u001b[38;5;241m==\u001b[39m \u001b[38;5;241m0\u001b[39m\n",
      "\u001b[0;31mNameError\u001b[0m: name 'x' is not defined"
     ]
    }
   ],
   "source": [
    "#Calcular f(x_i)\n",
    "#Encontrar x_i, como las raícez de Pn(x)\n",
    "\n",
    "P_0(x) == 0"
   ]
  },
  {
   "cell_type": "code",
   "execution_count": null,
   "id": "7f9df0e9",
   "metadata": {},
   "outputs": [],
   "source": []
  }
 ],
 "metadata": {
  "kernelspec": {
   "display_name": "Python 3 (ipykernel)",
   "language": "python",
   "name": "python3"
  },
  "language_info": {
   "codemirror_mode": {
    "name": "ipython",
    "version": 3
   },
   "file_extension": ".py",
   "mimetype": "text/x-python",
   "name": "python",
   "nbconvert_exporter": "python",
   "pygments_lexer": "ipython3",
   "version": "3.9.13"
  }
 },
 "nbformat": 4,
 "nbformat_minor": 5
}
