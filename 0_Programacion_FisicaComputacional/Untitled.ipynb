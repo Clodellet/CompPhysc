{
 "cells": [
  {
   "cell_type": "markdown",
   "id": "84d8c2d4",
   "metadata": {},
   "source": [
    "# SEGUNDO MÉTODO DE INTEGRACIÓN: Regla de Simpson\n",
    "## Claudia Daniela Rubio Ruiz"
   ]
  },
  {
   "cell_type": "code",
   "execution_count": 2,
   "id": "72ed9758",
   "metadata": {},
   "outputs": [],
   "source": [
    "def f(x):\n",
    "    return x**4 -2*x+1"
   ]
  },
  {
   "cell_type": "code",
   "execution_count": 4,
   "id": "b573b10e",
   "metadata": {},
   "outputs": [
    {
     "name": "stdout",
     "output_type": "stream",
     "text": [
      "0.03450692249604267\n"
     ]
    }
   ],
   "source": [
    "a=0\n",
    "b=2\n",
    "N=1000\n",
    "h=(b-a)/N\n",
    "\n",
    "S = (h/3)*(f(a) + f(b)) \n",
    "\n",
    "for k in range(1,int(N/2)):\n",
    "    if k%2 != 0: #para k par\n",
    "        S = (h/3)*(4*f(a+ (2*k+1)*h))\n",
    "    else:\n",
    "        S = (h/3)*(2*f(a+2*k*h))  \n",
    "    #S = S + (h/3)*(4*f(a+ (2+k+1)*h) + 2*f(a+2*k*h))\n",
    "\n",
    "print(S)"
   ]
  },
  {
   "cell_type": "code",
   "execution_count": null,
   "id": "9a09b3c7",
   "metadata": {},
   "outputs": [],
   "source": []
  }
 ],
 "metadata": {
  "kernelspec": {
   "display_name": "Python 3 (ipykernel)",
   "language": "python",
   "name": "python3"
  },
  "language_info": {
   "codemirror_mode": {
    "name": "ipython",
    "version": 3
   },
   "file_extension": ".py",
   "mimetype": "text/x-python",
   "name": "python",
   "nbconvert_exporter": "python",
   "pygments_lexer": "ipython3",
   "version": "3.9.13"
  }
 },
 "nbformat": 4,
 "nbformat_minor": 5
}
