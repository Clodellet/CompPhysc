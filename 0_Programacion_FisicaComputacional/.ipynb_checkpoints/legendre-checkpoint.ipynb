{
 "cells": [
  {
   "cell_type": "markdown",
   "id": "3f2a1699",
   "metadata": {},
   "source": [
    "# Polinomios de Legendre\n",
    "## Claudia Daniela Rubio Ruiz"
   ]
  },
  {
   "cell_type": "code",
   "execution_count": 1,
   "id": "111badda",
   "metadata": {},
   "outputs": [],
   "source": [
    "import numpy as np\n",
    "import scipy as sp\n",
    "import matplotlib.pyplot as plt"
   ]
  },
  {
   "cell_type": "code",
   "execution_count": 2,
   "id": "df564e31",
   "metadata": {},
   "outputs": [],
   "source": [
    "def f(x):\n",
    "    return x**2 + 4*x + 2"
   ]
  },
  {
   "cell_type": "code",
   "execution_count": 3,
   "id": "70110095",
   "metadata": {},
   "outputs": [],
   "source": [
    "#definir intervalo\n",
    "a = 8.0\n",
    "b = 27.0\n",
    "\n",
    "N = 3\n",
    "h = (b-a)/N"
   ]
  },
  {
   "cell_type": "markdown",
   "id": "0d13a300",
   "metadata": {},
   "source": [
    "$P_N(x) = \\displaystyle\\prod_{k=1}^{N} \\frac{x-x_N}{x_k-x_N}\\\\$\n",
    "$\\sum w_i f(x_i) = I$"
   ]
  },
  {
   "cell_type": "code",
   "execution_count": 4,
   "id": "28a7265e",
   "metadata": {},
   "outputs": [],
   "source": [
    "#POLINOMIOs DE LEGRENDE\n",
    "\n",
    "#def P_0(x):\n",
    " #   return 1 \n",
    "\n",
    "#def P_1(x):\n",
    " #   return x\n",
    "\n",
    "#def P_2(x):\n",
    " #   return (3*x**2-1)/2\n",
    "\n",
    "#def P_3(x):\n",
    " #   return (5*x**3-3*x)/2"
   ]
  },
  {
   "cell_type": "code",
   "execution_count": 5,
   "id": "c6660b6d",
   "metadata": {},
   "outputs": [],
   "source": [
    "x,w = sp.special.roots_legendre(N)"
   ]
  },
  {
   "cell_type": "code",
   "execution_count": 6,
   "id": "485d8bb5",
   "metadata": {},
   "outputs": [
    {
     "data": {
      "text/plain": [
       "array([-0.77459667,  0.        ,  0.77459667])"
      ]
     },
     "execution_count": 6,
     "metadata": {},
     "output_type": "execute_result"
    }
   ],
   "source": [
    "x"
   ]
  },
  {
   "cell_type": "code",
   "execution_count": 7,
   "id": "1e944be9",
   "metadata": {},
   "outputs": [
    {
     "data": {
      "text/plain": [
       "array([0.55555556, 0.88888889, 0.55555556])"
      ]
     },
     "execution_count": 7,
     "metadata": {},
     "output_type": "execute_result"
    }
   ],
   "source": [
    "w"
   ]
  },
  {
   "cell_type": "code",
   "execution_count": 8,
   "id": "f5c48635",
   "metadata": {},
   "outputs": [],
   "source": [
    "S = 0\n",
    "for i in range(N):\n",
    "    S += w[i]*f(x[i])"
   ]
  },
  {
   "cell_type": "code",
   "execution_count": 9,
   "id": "5b044d69",
   "metadata": {},
   "outputs": [
    {
     "data": {
      "text/plain": [
       "4.666666666666666"
      ]
     },
     "execution_count": 9,
     "metadata": {},
     "output_type": "execute_result"
    }
   ],
   "source": [
    "S"
   ]
  },
  {
   "cell_type": "code",
   "execution_count": null,
   "id": "3c98a155",
   "metadata": {},
   "outputs": [],
   "source": []
  }
 ],
 "metadata": {
  "kernelspec": {
   "display_name": "Python 3 (ipykernel)",
   "language": "python",
   "name": "python3"
  },
  "language_info": {
   "codemirror_mode": {
    "name": "ipython",
    "version": 3
   },
   "file_extension": ".py",
   "mimetype": "text/x-python",
   "name": "python",
   "nbconvert_exporter": "python",
   "pygments_lexer": "ipython3",
   "version": "3.9.13"
  }
 },
 "nbformat": 4,
 "nbformat_minor": 5
}
