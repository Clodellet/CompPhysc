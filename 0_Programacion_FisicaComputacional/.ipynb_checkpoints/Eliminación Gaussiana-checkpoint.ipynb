{
 "cells": [
  {
   "cell_type": "markdown",
   "id": "6ae6674f",
   "metadata": {},
   "source": [
    "# Eliminación Gaussiana"
   ]
  },
  {
   "cell_type": "code",
   "execution_count": 36,
   "id": "8084cf9b",
   "metadata": {},
   "outputs": [
    {
     "name": "stdout",
     "output_type": "stream",
     "text": [
      "Ingrese el número de filas: 2\n",
      "Ingrese el número de columnas: 2\n",
      "ingrese las entradas por fila:\n",
      "3\n",
      "2\n",
      "4\n",
      "5\n",
      "3.0   2.0   \n",
      "4.0   5.0   \n",
      "1.0   0.6666666666666666   \n",
      "0.8   1.0   \n"
     ]
    }
   ],
   "source": [
    "#definir matriz proporcionada por el usuario\n",
    "\n",
    "R = int(input(\"Ingrese el número de filas: \"))\n",
    "C = int(input(\"Ingrese el número de columnas: \"))\n",
    "\n",
    "#inicializar matriz\n",
    "matriz = []\n",
    "\n",
    "print(\"ingrese las entradas por fila:\")\n",
    "\n",
    "#Para el input del usuario hacer:\n",
    "for i in range(R):\n",
    "    a =[]\n",
    "    for j in range (C):\n",
    "        a.append(float(input()))\n",
    "    matriz.append(a)\n",
    "\n",
    "\n",
    "#imprimir matriz\n",
    "for i in range(R):\n",
    "    for j in range(C):\n",
    "        print(matriz[i][j], end = \"   \")\n",
    "    print()\n",
    "    \n",
    "    \n",
    "#Normalizar matriz\n",
    "for i in range(R):\n",
    "    for j in range(C):\n",
    "        if i == j:\n",
    "            if matriz[i][j] != 1:\n",
    "                c = matriz[i][j]\n",
    "                for j in range(C):\n",
    "                    matriz[i][j] *= 1/c #\n",
    "\n",
    "#while matriz[i+1][j] != 0:\n",
    "   # matriz[i+1][j] -= matriz[i][j]\n",
    "\n",
    "#imprimir matriz\n",
    "for i in range(R):\n",
    "    for j in range(C):\n",
    "        print(matriz[i][j], end = \"   \")\n",
    "    print()"
   ]
  },
  {
   "cell_type": "code",
   "execution_count": 1,
   "id": "b15478d8",
   "metadata": {},
   "outputs": [
    {
     "name": "stdout",
     "output_type": "stream",
     "text": [
      "1.0\n"
     ]
    }
   ],
   "source": [
    "x=5\n",
    "x = x * 1/x\n",
    "print(x)"
   ]
  },
  {
   "cell_type": "code",
   "execution_count": 40,
   "id": "dcc0082d",
   "metadata": {},
   "outputs": [
    {
     "name": "stdout",
     "output_type": "stream",
     "text": [
      "[[2. 3. 6.]\n",
      " [6. 5. 3.]\n",
      " [2. 3. 2.]]\n"
     ]
    }
   ],
   "source": [
    "#Respuesta\n",
    "#matriz a resolver\n",
    "import numpy as np\n",
    "\n",
    "A = np.array(([2,3,6],\n",
    "             [6,5,3],\n",
    "             [2,3,2]), float)\n",
    "\n",
    "#print(A)\n",
    "for m in range(N):\n",
    "    div = A[m,n]\n",
    "    A[m,:] /0 div\n",
    "    v[m]"
   ]
  },
  {
   "cell_type": "code",
   "execution_count": null,
   "id": "9836c04d",
   "metadata": {},
   "outputs": [],
   "source": []
  }
 ],
 "metadata": {
  "kernelspec": {
   "display_name": "Python 3 (ipykernel)",
   "language": "python",
   "name": "python3"
  },
  "language_info": {
   "codemirror_mode": {
    "name": "ipython",
    "version": 3
   },
   "file_extension": ".py",
   "mimetype": "text/x-python",
   "name": "python",
   "nbconvert_exporter": "python",
   "pygments_lexer": "ipython3",
   "version": "3.9.13"
  }
 },
 "nbformat": 4,
 "nbformat_minor": 5
}
