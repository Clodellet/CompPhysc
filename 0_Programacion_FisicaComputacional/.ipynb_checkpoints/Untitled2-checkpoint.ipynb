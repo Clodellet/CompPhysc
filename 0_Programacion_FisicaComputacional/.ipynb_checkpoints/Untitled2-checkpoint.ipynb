{
 "cells": [
  {
   "cell_type": "markdown",
   "id": "4350de8d",
   "metadata": {},
   "source": [
    "# Método de Euler\n",
    "## Claudia Daniela Rubio Ruiz"
   ]
  },
  {
   "cell_type": "markdown",
   "id": "e1e801a7",
   "metadata": {},
   "source": [
    "$ h = \\sqrt{ \\frac{4 \\alpha |f(x)|}{|f''(x)|}}$"
   ]
  },
  {
   "cell_type": "markdown",
   "id": "41f475f6",
   "metadata": {},
   "source": [
    "$\\epsilon = \\sqrt{\\alpha}$"
   ]
  },
  {
   "cell_type": "markdown",
   "id": "b482e42a",
   "metadata": {},
   "source": [
    "### Examen: derivadas n-dimensionales\n",
    "$\\frac{df}{dx}=\\frac{f(x+ \\frac{h}{2})- f(x-\\frac{h}{2})}{h}\\\\$\n",
    "$\\frac{d²f}{dx²}=\\frac{f(x+h)-2f(x)+f(x-h)}{h²}$"
   ]
  },
  {
   "cell_type": "markdown",
   "id": "18a88a1b",
   "metadata": {},
   "source": [
    "### Taylor\n",
    "$f(x+h)=f(x)+hf'(x)+\\frac{h²f''(x)}{2}+\\frac{h³f'''(x)}{6}$\\\n",
    "$f(x-h)=f(x)-hf'(x)+\\frac{h²f''(x)}{2}-\\frac{h³f'''(x)}{6}$\\\n",
    "$f(x-h)-f(x+h)=-2hf'(x)-\\frac{h}{3}f'''(x)+\\frac{2f(x)}{h²}$\\\n",
    "\n",
    "$\\epsilon = \\frac{4\\alpha|f(x)|}{h²}+\\frac{h²|f'''(x)|}{12}$\\\n",
    "$h = (48|\\frac{f(x)}{f'''(x)}|)^{\\frac{1}{4}}$"
   ]
  },
  {
   "cell_type": "markdown",
   "id": "cbb89eec",
   "metadata": {},
   "source": [
    "$f(x) = \\sum_{i=1}^{n}\\alpha_i f_i(x)$\\\n",
    "Aproximación polinomial:\\\n",
    "$f(x)= \\sum_{i=1}^{n}\\alpha_i \\prod_{i=1, j \\neq i}^{n}\\frac{x-x_i}{x_i-x_j}$"
   ]
  },
  {
   "cell_type": "code",
   "execution_count": null,
   "id": "535f479d",
   "metadata": {},
   "outputs": [],
   "source": []
  }
 ],
 "metadata": {
  "kernelspec": {
   "display_name": "Python 3 (ipykernel)",
   "language": "python",
   "name": "python3"
  },
  "language_info": {
   "codemirror_mode": {
    "name": "ipython",
    "version": 3
   },
   "file_extension": ".py",
   "mimetype": "text/x-python",
   "name": "python",
   "nbconvert_exporter": "python",
   "pygments_lexer": "ipython3",
   "version": "3.9.13"
  }
 },
 "nbformat": 4,
 "nbformat_minor": 5
}
